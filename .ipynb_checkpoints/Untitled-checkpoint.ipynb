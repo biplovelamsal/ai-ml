{
 "cells": [
  {
   "cell_type": "code",
   "execution_count": 1,
   "id": "600c83c7-1323-4850-812b-2dd0db2dc55f",
   "metadata": {},
   "outputs": [],
   "source": [
    "name = \"biplove\""
   ]
  },
  {
   "cell_type": "code",
   "execution_count": 2,
   "id": "a1e8d252-2778-4ee2-8fe2-27b7e5cdf8c9",
   "metadata": {},
   "outputs": [
    {
     "name": "stdout",
     "output_type": "stream",
     "text": [
      "Hello my name is biplove, this is my trial to making sure juypter and git is working\n"
     ]
    }
   ],
   "source": [
    "print(f\"Hello my name is {name}, this is my trial to making sure juypter and git is working\")"
   ]
  },
  {
   "cell_type": "code",
   "execution_count": null,
   "id": "1824baf5-484c-4644-ba23-f53452be76b5",
   "metadata": {},
   "outputs": [],
   "source": []
  },
  {
   "cell_type": "code",
   "execution_count": null,
   "id": "c47aa792-342b-42af-855b-c6009a92e528",
   "metadata": {},
   "outputs": [],
   "source": []
  }
 ],
 "metadata": {
  "kernelspec": {
   "display_name": "Python 3 (ipykernel)",
   "language": "python",
   "name": "python3"
  },
  "language_info": {
   "codemirror_mode": {
    "name": "ipython",
    "version": 3
   },
   "file_extension": ".py",
   "mimetype": "text/x-python",
   "name": "python",
   "nbconvert_exporter": "python",
   "pygments_lexer": "ipython3",
   "version": "3.9.7"
  }
 },
 "nbformat": 4,
 "nbformat_minor": 5
}
